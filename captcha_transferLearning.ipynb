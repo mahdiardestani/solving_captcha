{
  "nbformat": 4,
  "nbformat_minor": 0,
  "metadata": {
    "colab": {
      "name": "captcha_transferLearning.ipynb",
      "provenance": [],
      "authorship_tag": "ABX9TyM4GyZETwWrRJiOvB29L3R/",
      "include_colab_link": true
    },
    "kernelspec": {
      "name": "python3",
      "display_name": "Python 3"
    },
    "language_info": {
      "name": "python"
    },
    "accelerator": "GPU",
    "gpuClass": "standard"
  },
  "cells": [
    {
      "cell_type": "markdown",
      "metadata": {
        "id": "view-in-github",
        "colab_type": "text"
      },
      "source": [
        "<a href=\"https://colab.research.google.com/github/mahdiardestani/solving_captcha/blob/main/captcha_transferLearning.ipynb\" target=\"_parent\"><img src=\"https://colab.research.google.com/assets/colab-badge.svg\" alt=\"Open In Colab\"/></a>"
      ]
    },
    {
      "cell_type": "markdown",
      "source": [
        ""
      ],
      "metadata": {
        "id": "NE6Dm8R26hGl"
      }
    },
    {
      "cell_type": "code",
      "source": [
        "from tensorflow.keras.models import Sequential, Model, load_model\n",
        "from tensorflow.keras.datasets.mnist import load_data\n",
        "from tensorflow.keras import layers, models\n",
        "from tensorflow.keras.layers import Dense, Conv2D, Flatten, Input, MaxPool2D, BatchNormalization, GlobalAveragePooling2D, Dropout\n",
        "from random import shuffle \n",
        "from sklearn.model_selection import train_test_split\n",
        "from pathlib import Path\n",
        "from sklearn import preprocessing\n",
        "import cv2\n",
        "import os\n",
        "import glob\n",
        "import numpy as np\n",
        "import matplotlib.pyplot as plt"
      ],
      "metadata": {
        "id": "I_sOky0n8iK0"
      },
      "execution_count": null,
      "outputs": []
    },
    {
      "cell_type": "code",
      "source": [
        "!unzip CaptchaDataset.zip -d .> /dev/null"
      ],
      "metadata": {
        "id": "HGEH8O2E9426"
      },
      "execution_count": null,
      "outputs": []
    },
    {
      "cell_type": "code",
      "source": [
        "images = []\n",
        "labels = []\n",
        "path = Path(r'/content/CaptchaDataset')\n",
        "print('here')\n",
        "\n",
        "for index, item in enumerate(path.glob('*/*')):\n",
        "#     print('here2')    \n",
        "    img = cv2.imread(str(item))\n",
        "    img = cv2.resize(img,(32,32))\n",
        "    #Normalize image\n",
        "    img = img/255.0\n",
        "    images.append(img)\n",
        "    label = (str(item)).split(\"/\")[-1].split('_')[0]\n",
        "    labels.append(label)"
      ],
      "metadata": {
        "colab": {
          "base_uri": "https://localhost:8080/"
        },
        "id": "O-XLjCM98jAx",
        "outputId": "05d5fd3a-d4f0-468c-c30e-f2c66891b68d"
      },
      "execution_count": null,
      "outputs": [
        {
          "output_type": "stream",
          "name": "stdout",
          "text": [
            "here\n"
          ]
        }
      ]
    },
    {
      "cell_type": "markdown",
      "source": [
        "#  Test set"
      ],
      "metadata": {
        "id": "43MO4eRACeu1"
      }
    },
    {
      "cell_type": "code",
      "source": [
        "!unzip subtest_data.zip -d . > /dev/null"
      ],
      "metadata": {
        "id": "RhSkVSF0CgGx"
      },
      "execution_count": null,
      "outputs": []
    },
    {
      "cell_type": "code",
      "source": [
        "images_test = []\n",
        "labels_test = []\n",
        "for index, item in enumerate(glob.glob('subtest_data/*.jpg')):\n",
        "#     print('here2')    \n",
        "    img = cv2.imread(str(item))\n",
        "    img = cv2.resize(img,(32,32))\n",
        "    #Normalize image\n",
        "    img = img/255.0\n",
        "    images_test.append(img)\n",
        "    label = (str(item)).split(\"/\")[-1].split('_')[0]\n",
        "    labels_test.append(label)"
      ],
      "metadata": {
        "id": "7gWJQx1DCk2D"
      },
      "execution_count": null,
      "outputs": []
    },
    {
      "cell_type": "code",
      "source": [
        "print(len(images_test), len(labels_test))\n",
        "print(labels_test)"
      ],
      "metadata": {
        "colab": {
          "base_uri": "https://localhost:8080/"
        },
        "id": "X7RltVKiDeRG",
        "outputId": "0b9ffbd6-c696-408a-8316-7f507e46fe8f"
      },
      "execution_count": null,
      "outputs": [
        {
          "output_type": "stream",
          "name": "stdout",
          "text": [
            "153 153\n",
            "['Y', 'H', 'W', 'A', 'X', 'T', 'V', 'A', 'N', 'Y', '9', 'N', 'K', 'Y', 'Y', '4', 'H', 'A', 'A', '3', 'P', 'V', 'X', 'T', 'U', 'H', 'T', 'E', '8', 'C', 'C', 'S', 'D', 'S', 'V', '6', 'C', 'U', 'P', 'H', 'D', 'R', 'N', 'D', 'U', 'T', 'X', 'A', 'U', 'W', 'C', 'E', 'W', '4', '8', '4', 'U', 'W', 'M', 'D', 'N', 'V', 'A', 'W', '6', 'S', '4', 'V', 'D', 'P', 'R', 'P', 'A', '5', 'H', 'E', '3', 'C', '4', 'C', 'X', 'A', '3', 'K', 'Y', '4', 'A', '8', '5', 'V', '4', 'W', 'A', 'P', 'P', 'Y', 'X', 'Y', 'K', '4', '5', 'H', '9', '4', 'H', 'J', 'E', 'W', 'D', 'D', 'X', '8', 'S', '3', 'S', 'D', 'T', 'R', 'J', 'H', 'X', 'B', 'U', 'U', 'R', 'D', 'U', 'S', '6', 'E', '5', 'R', '5', 'T', '6', 'H', 'T', '5', 'B', '8', 'S', 'P', 'D', 'K', '9', 'M', '9', 'C', '9', 'T', 'D', 'W', '8']\n"
          ]
        }
      ]
    },
    {
      "cell_type": "code",
      "source": [
        "images_test = np.array(images_test)\n",
        "# multilabel encoding \n",
        "mlb_test = preprocessing.LabelBinarizer()\n",
        "labels_test = mlb_test.fit_transform(labels_test)"
      ],
      "metadata": {
        "id": "92Ry0A0sDj9k"
      },
      "execution_count": null,
      "outputs": []
    },
    {
      "cell_type": "code",
      "source": [
        "print(images_test.shape, labels_test.shape)"
      ],
      "metadata": {
        "colab": {
          "base_uri": "https://localhost:8080/"
        },
        "id": "OECHW8aEDtLo",
        "outputId": "9207924c-3ce4-422d-f10b-ebfe35f1d9b4"
      },
      "execution_count": null,
      "outputs": [
        {
          "output_type": "stream",
          "name": "stdout",
          "text": [
            "(153, 32, 32, 3) (153, 25)\n"
          ]
        }
      ]
    },
    {
      "cell_type": "code",
      "source": [
        "#find len of labels with unique value in set\n",
        "labels_set = list(set(labels))\n",
        "no_classes = len(labels_set)\n",
        "# print(len(label_set))"
      ],
      "metadata": {
        "id": "eLonGUwX-Ef_"
      },
      "execution_count": null,
      "outputs": []
    },
    {
      "cell_type": "code",
      "source": [
        "images = np.array(images)\n",
        "# multilabel encoding \n",
        "mlb = preprocessing.LabelBinarizer()\n",
        "labels = mlb.fit_transform(labels)\n",
        "# print(type(labels))\n",
        "mlb.classes_\n",
        "Xtrain, Xtest, ytrain, ytest = train_test_split(images, labels, test_size = 0.2)\n",
        "# print(len(Xtrain))\n",
        "print(\"shape of Xtrain: \", Xtrain.shape, end = '\\n')\n",
        "print(\"shape of Xtest: \", Xtest.shape, end = '\\n')\n",
        "# print(Xtrain.shape[1:])\n",
        "# print(type(ytrain))\n",
        "print(\"shape of ytrain:\", ytrain.shape,  end = '\\n')\n",
        "print(\"shape of ytest:\", ytest.shape,  end = '\\n')\n",
        "# print(type(ytrain_arr))\n",
        "print(no_classes)"
      ],
      "metadata": {
        "colab": {
          "base_uri": "https://localhost:8080/"
        },
        "id": "o6ATN-Uc-O_n",
        "outputId": "b8238482-8cfc-4fa8-f0fc-a2388dcb4979"
      },
      "execution_count": null,
      "outputs": [
        {
          "output_type": "stream",
          "name": "stdout",
          "text": [
            "shape of Xtrain:  (14782, 32, 32, 3)\n",
            "shape of Xtest:  (3696, 32, 32, 3)\n",
            "shape of ytrain: (14782, 25)\n",
            "shape of ytest: (3696, 25)\n",
            "25\n"
          ]
        }
      ]
    },
    {
      "cell_type": "code",
      "source": [
        "def generateModel(no_classes):\n",
        "    model = Sequential()\n",
        "    model.add(Conv2D(32, 3, padding='same', activation='selu', input_shape=Xtrain.shape[1:]))\n",
        "    model.add(BatchNormalization())\n",
        "    model.add(MaxPool2D())\n",
        "    model.add(Dropout(.20))\n",
        "    \n",
        "    model.add(Conv2D(64, 3, padding='same', activation='selu'))\n",
        "    model.add(BatchNormalization())\n",
        "    model.add(MaxPool2D())\n",
        "\n",
        "    model.add(Conv2D(128, 3, padding='same', activation='selu', input_shape=Xtrain.shape[1:]))\n",
        "    model.add(BatchNormalization())\n",
        "    model.add(MaxPool2D())\n",
        "    model.add(Dropout(.20))\n",
        "    \n",
        "    model.add(GlobalAveragePooling2D())\n",
        "    \n",
        "    model.add(Dense(no_classes, activation='softmax'))\n",
        "\n",
        "    model.summary()\n",
        "    return model\n",
        "\n",
        "model = generateModel(no_classes)"
      ],
      "metadata": {
        "colab": {
          "base_uri": "https://localhost:8080/"
        },
        "id": "Eu6i3Im7-RYF",
        "outputId": "d7bab78c-7e1c-4d0c-c89e-d990bcf57d14"
      },
      "execution_count": null,
      "outputs": [
        {
          "output_type": "stream",
          "name": "stdout",
          "text": [
            "Model: \"sequential_3\"\n",
            "_________________________________________________________________\n",
            " Layer (type)                Output Shape              Param #   \n",
            "=================================================================\n",
            " conv2d_2 (Conv2D)           (None, 32, 32, 32)        896       \n",
            "                                                                 \n",
            " batch_normalization_2 (Batc  (None, 32, 32, 32)       128       \n",
            " hNormalization)                                                 \n",
            "                                                                 \n",
            " max_pooling2d_2 (MaxPooling  (None, 16, 16, 32)       0         \n",
            " 2D)                                                             \n",
            "                                                                 \n",
            " dropout_2 (Dropout)         (None, 16, 16, 32)        0         \n",
            "                                                                 \n",
            " conv2d_3 (Conv2D)           (None, 16, 16, 64)        18496     \n",
            "                                                                 \n",
            " batch_normalization_3 (Batc  (None, 16, 16, 64)       256       \n",
            " hNormalization)                                                 \n",
            "                                                                 \n",
            " max_pooling2d_3 (MaxPooling  (None, 8, 8, 64)         0         \n",
            " 2D)                                                             \n",
            "                                                                 \n",
            " conv2d_4 (Conv2D)           (None, 8, 8, 128)         73856     \n",
            "                                                                 \n",
            " batch_normalization_4 (Batc  (None, 8, 8, 128)        512       \n",
            " hNormalization)                                                 \n",
            "                                                                 \n",
            " max_pooling2d_4 (MaxPooling  (None, 4, 4, 128)        0         \n",
            " 2D)                                                             \n",
            "                                                                 \n",
            " dropout_3 (Dropout)         (None, 4, 4, 128)         0         \n",
            "                                                                 \n",
            " global_average_pooling2d (G  (None, 128)              0         \n",
            " lobalAveragePooling2D)                                          \n",
            "                                                                 \n",
            " dense (Dense)               (None, 25)                3225      \n",
            "                                                                 \n",
            "=================================================================\n",
            "Total params: 97,369\n",
            "Trainable params: 96,921\n",
            "Non-trainable params: 448\n",
            "_________________________________________________________________\n"
          ]
        }
      ]
    },
    {
      "cell_type": "code",
      "source": [
        "model.compile(optimizer='adam', loss='categorical_crossentropy', metrics=['acc'])"
      ],
      "metadata": {
        "id": "T96Wc1Wt-V0N"
      },
      "execution_count": null,
      "outputs": []
    },
    {
      "cell_type": "code",
      "source": [
        "xtrain_arr = np.asarray(Xtrain).astype('float32')\n",
        "print(xtrain_arr.shape[0:-1])\n",
        "xtest_arr = np.asarray(Xtest).astype('float32')\n",
        "print(xtest_arr.shape)\n",
        "ytrain_arr = np.asarray(ytrain).astype('float32')\n",
        "print(ytrain_arr.shape)\n",
        "ytest_arr = np.asarray(ytest).astype('float32')\n",
        "print(ytest_arr.shape)\n",
        "result = model.fit(xtrain_arr, ytrain_arr, batch_size = 32, epochs = 20, validation_data = (xtest_arr, ytest_arr))"
      ],
      "metadata": {
        "colab": {
          "base_uri": "https://localhost:8080/"
        },
        "id": "ioyFr_E3-YIK",
        "outputId": "1b63402a-1491-485a-b625-884bf52de1a7"
      },
      "execution_count": null,
      "outputs": [
        {
          "output_type": "stream",
          "name": "stdout",
          "text": [
            "(14782, 32, 32)\n",
            "(3696, 32, 32, 3)\n",
            "(14782, 25)\n",
            "(3696, 25)\n",
            "Epoch 1/20\n",
            "462/462 [==============================] - 10s 6ms/step - loss: 0.3483 - acc: 0.8921 - val_loss: 0.5629 - val_acc: 0.8382\n",
            "Epoch 2/20\n",
            "462/462 [==============================] - 2s 5ms/step - loss: 0.3153 - acc: 0.9039 - val_loss: 0.5855 - val_acc: 0.8350\n",
            "Epoch 3/20\n",
            "462/462 [==============================] - 2s 5ms/step - loss: 0.2970 - acc: 0.9078 - val_loss: 0.6095 - val_acc: 0.8369\n",
            "Epoch 4/20\n",
            "462/462 [==============================] - 2s 5ms/step - loss: 0.2771 - acc: 0.9158 - val_loss: 0.5846 - val_acc: 0.8406\n",
            "Epoch 5/20\n",
            "462/462 [==============================] - 2s 5ms/step - loss: 0.2557 - acc: 0.9209 - val_loss: 0.5479 - val_acc: 0.8460\n",
            "Epoch 6/20\n",
            "462/462 [==============================] - 2s 5ms/step - loss: 0.2540 - acc: 0.9188 - val_loss: 0.5705 - val_acc: 0.8393\n",
            "Epoch 7/20\n",
            "462/462 [==============================] - 2s 5ms/step - loss: 0.2341 - acc: 0.9280 - val_loss: 0.5533 - val_acc: 0.8458\n",
            "Epoch 8/20\n",
            "462/462 [==============================] - 2s 5ms/step - loss: 0.2285 - acc: 0.9284 - val_loss: 0.5364 - val_acc: 0.8525\n",
            "Epoch 9/20\n",
            "462/462 [==============================] - 2s 5ms/step - loss: 0.2158 - acc: 0.9336 - val_loss: 0.6552 - val_acc: 0.8304\n",
            "Epoch 10/20\n",
            "462/462 [==============================] - 2s 5ms/step - loss: 0.2008 - acc: 0.9373 - val_loss: 0.5360 - val_acc: 0.8585\n",
            "Epoch 11/20\n",
            "462/462 [==============================] - 2s 5ms/step - loss: 0.1937 - acc: 0.9376 - val_loss: 0.5840 - val_acc: 0.8420\n",
            "Epoch 12/20\n",
            "462/462 [==============================] - 2s 5ms/step - loss: 0.1856 - acc: 0.9413 - val_loss: 0.5758 - val_acc: 0.8404\n",
            "Epoch 13/20\n",
            "462/462 [==============================] - 2s 5ms/step - loss: 0.1752 - acc: 0.9462 - val_loss: 0.5496 - val_acc: 0.8474\n",
            "Epoch 14/20\n",
            "462/462 [==============================] - 2s 5ms/step - loss: 0.1767 - acc: 0.9448 - val_loss: 0.5404 - val_acc: 0.8528\n",
            "Epoch 15/20\n",
            "462/462 [==============================] - 2s 5ms/step - loss: 0.1791 - acc: 0.9432 - val_loss: 0.5898 - val_acc: 0.8455\n",
            "Epoch 16/20\n",
            "462/462 [==============================] - 2s 5ms/step - loss: 0.1758 - acc: 0.9436 - val_loss: 0.5969 - val_acc: 0.8498\n",
            "Epoch 17/20\n",
            "462/462 [==============================] - 2s 5ms/step - loss: 0.1638 - acc: 0.9459 - val_loss: 0.5707 - val_acc: 0.8466\n",
            "Epoch 18/20\n",
            "462/462 [==============================] - 2s 5ms/step - loss: 0.1521 - acc: 0.9521 - val_loss: 0.6103 - val_acc: 0.8358\n",
            "Epoch 19/20\n",
            "462/462 [==============================] - 2s 5ms/step - loss: 0.1536 - acc: 0.9511 - val_loss: 0.6445 - val_acc: 0.8425\n",
            "Epoch 20/20\n",
            "462/462 [==============================] - 2s 5ms/step - loss: 0.1502 - acc: 0.9522 - val_loss: 0.6132 - val_acc: 0.8569\n"
          ]
        }
      ]
    },
    {
      "cell_type": "code",
      "source": [
        "model.evaluate(images_test, labels_test)"
      ],
      "metadata": {
        "colab": {
          "base_uri": "https://localhost:8080/"
        },
        "id": "NRQ3nV16IQO5",
        "outputId": "0fdd3c9f-6094-486b-93d5-76a6a94a2822"
      },
      "execution_count": null,
      "outputs": [
        {
          "output_type": "stream",
          "name": "stdout",
          "text": [
            "5/5 [==============================] - 0s 20ms/step - loss: 0.6446 - acc: 0.8235\n"
          ]
        },
        {
          "output_type": "execute_result",
          "data": {
            "text/plain": [
              "[0.6445950269699097, 0.8235294222831726]"
            ]
          },
          "metadata": {},
          "execution_count": 33
        }
      ]
    },
    {
      "cell_type": "code",
      "source": [
        "from tensorflow.keras.applications.vgg16 import VGG16\n",
        "from tensorflow.keras.applications.vgg16 import preprocess_input\n",
        "\n",
        "#Loading Model\n",
        "base_model = VGG16(weights=\"imagenet\", include_top=False,input_shape=Xtrain.shape[1:])\n",
        "base_model.trainable = False\n",
        "\n",
        "Xtrain_vgg = preprocess_input(Xtrain)\n",
        "Xtest_vgg = preprocess_input(Xtest)\n",
        "x = base_model.output\n",
        "x = GlobalAveragePooling2D()(x)\n",
        "# let's add a fully-connected layer\n",
        "x = Dense(no_classes, activation='softmax')(x)\n",
        "# base_model.summary()\n",
        "\n",
        "model_vgg = Model(inputs=base_model.input, outputs=x)\n",
        "model_vgg.summary()"
      ],
      "metadata": {
        "colab": {
          "base_uri": "https://localhost:8080/"
        },
        "id": "Gnia_ozg-ZhF",
        "outputId": "518ddc8f-cce2-496d-9c08-3166e9ea4a3e"
      },
      "execution_count": null,
      "outputs": [
        {
          "output_type": "stream",
          "name": "stdout",
          "text": [
            "Downloading data from https://storage.googleapis.com/tensorflow/keras-applications/vgg16/vgg16_weights_tf_dim_ordering_tf_kernels_notop.h5\n",
            "58892288/58889256 [==============================] - 0s 0us/step\n",
            "58900480/58889256 [==============================] - 0s 0us/step\n",
            "Model: \"model\"\n",
            "_________________________________________________________________\n",
            " Layer (type)                Output Shape              Param #   \n",
            "=================================================================\n",
            " input_1 (InputLayer)        [(None, 32, 32, 3)]       0         \n",
            "                                                                 \n",
            " block1_conv1 (Conv2D)       (None, 32, 32, 64)        1792      \n",
            "                                                                 \n",
            " block1_conv2 (Conv2D)       (None, 32, 32, 64)        36928     \n",
            "                                                                 \n",
            " block1_pool (MaxPooling2D)  (None, 16, 16, 64)        0         \n",
            "                                                                 \n",
            " block2_conv1 (Conv2D)       (None, 16, 16, 128)       73856     \n",
            "                                                                 \n",
            " block2_conv2 (Conv2D)       (None, 16, 16, 128)       147584    \n",
            "                                                                 \n",
            " block2_pool (MaxPooling2D)  (None, 8, 8, 128)         0         \n",
            "                                                                 \n",
            " block3_conv1 (Conv2D)       (None, 8, 8, 256)         295168    \n",
            "                                                                 \n",
            " block3_conv2 (Conv2D)       (None, 8, 8, 256)         590080    \n",
            "                                                                 \n",
            " block3_conv3 (Conv2D)       (None, 8, 8, 256)         590080    \n",
            "                                                                 \n",
            " block3_pool (MaxPooling2D)  (None, 4, 4, 256)         0         \n",
            "                                                                 \n",
            " block4_conv1 (Conv2D)       (None, 4, 4, 512)         1180160   \n",
            "                                                                 \n",
            " block4_conv2 (Conv2D)       (None, 4, 4, 512)         2359808   \n",
            "                                                                 \n",
            " block4_conv3 (Conv2D)       (None, 4, 4, 512)         2359808   \n",
            "                                                                 \n",
            " block4_pool (MaxPooling2D)  (None, 2, 2, 512)         0         \n",
            "                                                                 \n",
            " block5_conv1 (Conv2D)       (None, 2, 2, 512)         2359808   \n",
            "                                                                 \n",
            " block5_conv2 (Conv2D)       (None, 2, 2, 512)         2359808   \n",
            "                                                                 \n",
            " block5_conv3 (Conv2D)       (None, 2, 2, 512)         2359808   \n",
            "                                                                 \n",
            " block5_pool (MaxPooling2D)  (None, 1, 1, 512)         0         \n",
            "                                                                 \n",
            " global_average_pooling2d_1   (None, 512)              0         \n",
            " (GlobalAveragePooling2D)                                        \n",
            "                                                                 \n",
            " dense_1 (Dense)             (None, 25)                12825     \n",
            "                                                                 \n",
            "=================================================================\n",
            "Total params: 14,727,513\n",
            "Trainable params: 12,825\n",
            "Non-trainable params: 14,714,688\n",
            "_________________________________________________________________\n"
          ]
        }
      ]
    },
    {
      "cell_type": "code",
      "source": [
        "model_vgg.compile(optimizer='adam', loss='categorical_crossentropy', metrics=['acc'])"
      ],
      "metadata": {
        "id": "HxZa7QEp-leT"
      },
      "execution_count": null,
      "outputs": []
    },
    {
      "cell_type": "code",
      "source": [
        "model_vgg.fit(xtrain_arr, ytrain_arr, batch_size = 32, epochs = 20, validation_data = (xtest_arr, ytest_arr))"
      ],
      "metadata": {
        "colab": {
          "base_uri": "https://localhost:8080/"
        },
        "id": "GnBJg60ZBzF5",
        "outputId": "f1418511-082a-4f2d-bfd9-830b0194cba6"
      },
      "execution_count": null,
      "outputs": [
        {
          "output_type": "stream",
          "name": "stdout",
          "text": [
            "Epoch 1/20\n",
            "462/462 [==============================] - 7s 14ms/step - loss: 2.6121 - acc: 0.2441 - val_loss: 2.2921 - val_acc: 0.3304\n",
            "Epoch 2/20\n",
            "462/462 [==============================] - 6s 12ms/step - loss: 2.1490 - acc: 0.3775 - val_loss: 2.0783 - val_acc: 0.3858\n",
            "Epoch 3/20\n",
            "462/462 [==============================] - 6s 12ms/step - loss: 1.9766 - acc: 0.4262 - val_loss: 1.9634 - val_acc: 0.4183\n",
            "Epoch 4/20\n",
            "462/462 [==============================] - 6s 12ms/step - loss: 1.8678 - acc: 0.4554 - val_loss: 1.8836 - val_acc: 0.4356\n",
            "Epoch 5/20\n",
            "462/462 [==============================] - 6s 13ms/step - loss: 1.7895 - acc: 0.4778 - val_loss: 1.8314 - val_acc: 0.4535\n",
            "Epoch 6/20\n",
            "462/462 [==============================] - 6s 12ms/step - loss: 1.7303 - acc: 0.4930 - val_loss: 1.7884 - val_acc: 0.4637\n",
            "Epoch 7/20\n",
            "462/462 [==============================] - 6s 12ms/step - loss: 1.6798 - acc: 0.5083 - val_loss: 1.7539 - val_acc: 0.4751\n",
            "Epoch 8/20\n",
            "462/462 [==============================] - 6s 13ms/step - loss: 1.6382 - acc: 0.5182 - val_loss: 1.7283 - val_acc: 0.4770\n",
            "Epoch 9/20\n",
            "462/462 [==============================] - 6s 12ms/step - loss: 1.6005 - acc: 0.5277 - val_loss: 1.7053 - val_acc: 0.4894\n",
            "Epoch 10/20\n",
            "462/462 [==============================] - 6s 12ms/step - loss: 1.5706 - acc: 0.5371 - val_loss: 1.6814 - val_acc: 0.4976\n",
            "Epoch 11/20\n",
            "462/462 [==============================] - 6s 12ms/step - loss: 1.5431 - acc: 0.5449 - val_loss: 1.6614 - val_acc: 0.5032\n",
            "Epoch 12/20\n",
            "462/462 [==============================] - 6s 12ms/step - loss: 1.5184 - acc: 0.5523 - val_loss: 1.6532 - val_acc: 0.5005\n",
            "Epoch 13/20\n",
            "462/462 [==============================] - 6s 12ms/step - loss: 1.4965 - acc: 0.5554 - val_loss: 1.6358 - val_acc: 0.5073\n",
            "Epoch 14/20\n",
            "462/462 [==============================] - 6s 13ms/step - loss: 1.4757 - acc: 0.5661 - val_loss: 1.6290 - val_acc: 0.5081\n",
            "Epoch 15/20\n",
            "462/462 [==============================] - 6s 12ms/step - loss: 1.4585 - acc: 0.5672 - val_loss: 1.6148 - val_acc: 0.5157\n",
            "Epoch 16/20\n",
            "462/462 [==============================] - 6s 12ms/step - loss: 1.4395 - acc: 0.5721 - val_loss: 1.6138 - val_acc: 0.5087\n",
            "Epoch 17/20\n",
            "462/462 [==============================] - 6s 12ms/step - loss: 1.4242 - acc: 0.5785 - val_loss: 1.6046 - val_acc: 0.5130\n",
            "Epoch 18/20\n",
            "462/462 [==============================] - 6s 12ms/step - loss: 1.4104 - acc: 0.5798 - val_loss: 1.5926 - val_acc: 0.5168\n",
            "Epoch 19/20\n",
            "462/462 [==============================] - 6s 12ms/step - loss: 1.3976 - acc: 0.5845 - val_loss: 1.5898 - val_acc: 0.5179\n",
            "Epoch 20/20\n",
            "462/462 [==============================] - 6s 12ms/step - loss: 1.3838 - acc: 0.5881 - val_loss: 1.5768 - val_acc: 0.5203\n"
          ]
        },
        {
          "output_type": "execute_result",
          "data": {
            "text/plain": [
              "<keras.callbacks.History at 0x7f1760208490>"
            ]
          },
          "metadata": {},
          "execution_count": 36
        }
      ]
    },
    {
      "cell_type": "code",
      "source": [
        "model_vgg.evaluate(images_test, labels_test)"
      ],
      "metadata": {
        "colab": {
          "base_uri": "https://localhost:8080/"
        },
        "id": "VfbxlQtWB5Ek",
        "outputId": "074dded7-cbd1-42c5-f2d4-bfd4853087f1"
      },
      "execution_count": null,
      "outputs": [
        {
          "output_type": "stream",
          "name": "stdout",
          "text": [
            "5/5 [==============================] - 1s 101ms/step - loss: 1.5678 - acc: 0.5294\n"
          ]
        },
        {
          "output_type": "execute_result",
          "data": {
            "text/plain": [
              "[1.5677504539489746, 0.529411792755127]"
            ]
          },
          "metadata": {},
          "execution_count": 37
        }
      ]
    },
    {
      "cell_type": "code",
      "source": [
        ""
      ],
      "metadata": {
        "id": "ijvY4bD_FdGv"
      },
      "execution_count": null,
      "outputs": []
    }
  ]
}