{
 "cells": [
  {
   "cell_type": "markdown",
   "id": "67823fcb",
   "metadata": {},
   "source": [
    "#### Import Module"
   ]
  },
  {
   "cell_type": "code",
   "execution_count": 26,
   "id": "e851a147",
   "metadata": {},
   "outputs": [],
   "source": [
    "import selenium\n",
    "import matplotlib.pyplot as plt\n",
    "import cv2\n",
    "import time\n",
    "import os\n",
    "from selenium import webdriver\n",
    "from selenium.webdriver.common.by import By\n",
    "import numpy as np"
   ]
  },
  {
   "cell_type": "markdown",
   "id": "e7bb02b2",
   "metadata": {},
   "source": [
    "### Set url"
   ]
  },
  {
   "cell_type": "code",
   "execution_count": 2,
   "id": "731bb3a7",
   "metadata": {},
   "outputs": [],
   "source": [
    "driver = webdriver.Chrome()\n",
    "url = \"https://evisaforms.state.gov/default.asp?CSRFToken=5EFE4E039019450D9DCB0A6BA125CA7A&PostCode=ERB&CountryCode=IRAQ++++++&CountryCodeShow=&PostCodeShow=&Submit=Submit\"\n",
    "driver.get(url)\n",
    "time.sleep(5)"
   ]
  },
  {
   "cell_type": "markdown",
   "id": "7005a2ac",
   "metadata": {},
   "source": [
    "### Collecting Data"
   ]
  },
  {
   "cell_type": "code",
   "execution_count": null,
   "id": "077ff24f",
   "metadata": {},
   "outputs": [],
   "source": [
    "for i in range(250):\n",
    "    captcha_element = driver.find_element_by_id(\"frmconinput_CaptchaImage\")\n",
    "    captcha_screenshot = captcha_element.screenshot(f'captcha_test_{i}.jpg')\n",
    "    refresh_el = driver.find_element_by_id(\"frmconinput_ReloadLink\")\n",
    "    refresh_el.click()\n",
    "    time.sleep(15)"
   ]
  },
  {
   "cell_type": "code",
   "execution_count": 23,
   "id": "cb77fa10",
   "metadata": {},
   "outputs": [
    {
     "ename": "SyntaxError",
     "evalue": "(unicode error) 'unicodeescape' codec can't decode bytes in position 2-3: truncated \\UXXXXXXXX escape (Temp/ipykernel_8512/4101734275.py, line 10)",
     "output_type": "error",
     "traceback": [
      "\u001b[1;36m  File \u001b[1;32m\"C:\\Users\\MAHDIA~1\\AppData\\Local\\Temp/ipykernel_8512/4101734275.py\"\u001b[1;36m, line \u001b[1;32m10\u001b[0m\n\u001b[1;33m    cv2.imwrite(f'C:\\Users\\Mahdi Ardestani\\Documents\\GitHub\\solving_captcha\\99123167\\sub-images\\\\{file_name[i]}_{counter}.jpg',sub_image)\u001b[0m\n\u001b[1;37m                ^\u001b[0m\n\u001b[1;31mSyntaxError\u001b[0m\u001b[1;31m:\u001b[0m (unicode error) 'unicodeescape' codec can't decode bytes in position 2-3: truncated \\UXXXXXXXX escape\n"
     ]
    }
   ],
   "source": [
    "counter = 0\n",
    "for file_name in os.listdir('C:\\\\Users\\\\Mahdi Ardestani\\\\Documents\\\\GitHub\\\\solving_captcha\\\\99123167\\\\images')[1:]:\n",
    "     if file_name.endswith('.jpg'):\n",
    "        image = cv2.imread(f'C:\\\\Users\\\\Mahdi Ardestani\\\\Documents\\\\GitHub\\\\solving_captcha\\\\99123167\\\\images\\\\{file_name}',0)\n",
    "        for i in range(5):\n",
    "            counter += 1\n",
    "            sub_image = image[:,i*28:i*28+35]\n",
    "            print(file_name[i])\n",
    "            plt.imshow(sub_image,cmap='gray')\n",
    "            cv2.imwrite(f'C:\\Users\\Mahdi Ardestani\\Documents\\GitHub\\solving_captcha\\99123167\\sub-images\\\\{file_name[i]}_{counter}.jpg',sub_image)\n",
    "            #break\n",
    "        #print(file_name)\n",
    "        #break"
   ]
  },
  {
   "cell_type": "code",
   "execution_count": 32,
   "id": "399ce1e8",
   "metadata": {},
   "outputs": [],
   "source": [
    "# filtering Image\n",
    "for file_name in os.listdir(f'C:\\\\Users\\\\Mahdi Ardestani\\\\Documents\\\\GitHub\\\\solving_captcha\\\\99123167\\\\sub-images'):\n",
    "    if file_name.endswith('.jpg'):\n",
    "        sub_image = cv2.imread(f'C:\\\\Users\\\\Mahdi Ardestani\\\\Documents\\\\GitHub\\\\solving_captcha\\\\99123167\\\\sub-images\\\\{file_name}',0)\n",
    "        filtered = cv2.medianBlur(sub_image,1)\n",
    "        filtered = cv2.blur(filtered,(3,3))\n",
    "        filtered = cv2.bilateralFilter(filtered,15,75,75)\n",
    "#         kernel = np.ones((5,5),np.float32)/25\n",
    "#         filtered = cv2.filter2D(filtered,-1,kernel)\n",
    "        cv2.imwrite(f'C:\\\\Users\\\\Mahdi Ardestani\\\\Documents\\\\GitHub\\\\solving_captcha\\\\99123167\\\\filtered-images\\\\{file_name}',filtered)\n"
   ]
  },
  {
   "cell_type": "code",
   "execution_count": null,
   "id": "e1168010",
   "metadata": {},
   "outputs": [],
   "source": []
  }
 ],
 "metadata": {
  "kernelspec": {
   "display_name": "Python 3 (ipykernel)",
   "language": "python",
   "name": "python3"
  },
  "language_info": {
   "codemirror_mode": {
    "name": "ipython",
    "version": 3
   },
   "file_extension": ".py",
   "mimetype": "text/x-python",
   "name": "python",
   "nbconvert_exporter": "python",
   "pygments_lexer": "ipython3",
   "version": "3.8.10"
  }
 },
 "nbformat": 4,
 "nbformat_minor": 5
}
